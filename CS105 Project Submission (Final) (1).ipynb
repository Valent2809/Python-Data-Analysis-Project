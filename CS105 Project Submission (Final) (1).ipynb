{
 "cells": [
  {
   "cell_type": "markdown",
   "metadata": {},
   "source": [
    "<div class=\"alert alert-block alert-info\">\n",
    "Singapore Management University<br>\n",
    "CS105 Statistical Thinking for Data Science, 2021/22 Term 2\n",
    "</div>"
   ]
  },
  {
   "cell_type": "markdown",
   "metadata": {
    "colab_type": "text",
    "id": "zYBbWb-0Kc6H"
   },
   "source": [
    "# CS105 Group Project Submission (Final)"
   ]
  },
  {
   "attachments": {
    "info.png": {
     "image/png": "[encoded data removed]"
    }
   },
   "cell_type": "markdown",
   "metadata": {},
   "source": [
    "-----\n",
    "<img src=\"attachment:info.png\" width=\"60\" align=\"left\"/>Provide your team details, including section, team number, team members, and the name of the dataset. \n",
    "Complete all of the following sections. For any part requiring code to derive your answers, please create a code cell immediately below your response and run the code.\n",
    "To edit any markdown cell, double click the cell; after editing, execute the markdown cell to collapse it.\n",
    "\n",
    "Include both Part I and Part II to produce a self-contained notebook. You may fine-tune Part I codes and/or findings based on feedback received on Part I submission.\n",
    "<br>\n",
    "-----"
   ]
  },
  {
   "cell_type": "markdown",
   "metadata": {},
   "source": [
    "#### Section: 3\n",
    "#### Team: 4\n",
    "#### Members:\n",
    "1. AGRAWAL SHARAD\n",
    "2. VALENTINO ONG\n",
    "3. LEE YU EN HECTOR\n",
    "4. SHERLIN CHOO ZHI YI\n",
    "5. JASJYOT KAUR NARULA\n",
    "\n",
    "#### Dataset: Housing"
   ]
  },
  {
   "cell_type": "code",
   "execution_count": 1,
   "metadata": {},
   "outputs": [],
   "source": [
    "import numpy as np\n",
    "import pandas as pd\n",
    "import matplotlib.pyplot as plt\n",
    "import seaborn as sns\n",
    "from sklearn.preprocessing import OrdinalEncoder\n",
    "\n",
    "df = pd.read_csv('housing.csv')\n",
    "df_copy = df\n",
    "df_rows, df_cols = df.shape"
   ]
  },
  {
   "cell_type": "markdown",
   "metadata": {},
   "source": [
    "## Part I: Exploratory Data Analysis (EDA) [8% of final grade]"
   ]
  },
  {
   "cell_type": "markdown",
   "metadata": {},
   "source": [
    "### 1. Overview of dataset [15% of Part I]"
   ]
  },
  {
   "cell_type": "markdown",
   "metadata": {},
   "source": [
    "**a.** Summarise the background of the dataset [limited to 50 words]"
   ]
  },
  {
   "cell_type": "markdown",
   "metadata": {},
   "source": [
    "**Response.** \n",
    "The Housing dataset contains data from a census survey with regards to housing in a region. Each row \n",
    "corresponds to a town, hence the values of each attribute is for each town. 506 towns are recorded, each with a unique ID, and other are non-unique values."
   ]
  },
  {
   "cell_type": "markdown",
   "metadata": {},
   "source": [
    "<font color = red size = 3>\n",
    "   [1a] 3%\n",
    "</font>"
   ]
  },
  {
   "cell_type": "markdown",
   "metadata": {},
   "source": [
    "**Response.** "
   ]
  },
  {
   "cell_type": "markdown",
   "metadata": {},
   "source": [
    "**b.** State the size of the dataset"
   ]
  },
  {
   "cell_type": "code",
   "execution_count": 2,
   "metadata": {},
   "outputs": [
    {
     "data": {
      "text/plain": [
       "7084"
      ]
     },
     "execution_count": 2,
     "metadata": {},
     "output_type": "execute_result"
    }
   ],
   "source": [
    "df.size"
   ]
  },
  {
   "cell_type": "code",
   "execution_count": 3,
   "metadata": {},
   "outputs": [
    {
     "name": "stdout",
     "output_type": "stream",
     "text": [
      "There are 506 entries and 14 columns.\n"
     ]
    }
   ],
   "source": [
    "print(f'There are {df_rows} entries and {df_cols} columns.')"
   ]
  },
  {
   "cell_type": "markdown",
   "metadata": {},
   "source": [
    "<font color = red size = 3>\n",
    "   [1b] 2%\n",
    "</font>"
   ]
  },
  {
   "cell_type": "markdown",
   "metadata": {},
   "source": [
    "**Response.** The size is 7084, with 506 entries and 14 columns"
   ]
  },
  {
   "cell_type": "markdown",
   "metadata": {},
   "source": [
    "**c.** For each variable, describe what it represents and its data type (numerical or categorical)"
   ]
  },
  {
   "cell_type": "markdown",
   "metadata": {},
   "source": [
    "**Response.**"
   ]
  },
  {
   "cell_type": "code",
   "execution_count": 4,
   "metadata": {},
   "outputs": [
    {
     "data": {
      "text/html": [
       "<div>\n",
       "<style scoped>\n",
       "    .dataframe tbody tr th:only-of-type {\n",
       "        vertical-align: middle;\n",
       "    }\n",
       "\n",
       "    .dataframe tbody tr th {\n",
       "        vertical-align: top;\n",
       "    }\n",
       "\n",
       "    .dataframe thead th {\n",
       "        text-align: right;\n",
       "    }\n",
       "</style>\n",
       "<table border=\"1\" class=\"dataframe\">\n",
       "  <thead>\n",
       "    <tr style=\"text-align: right;\">\n",
       "      <th></th>\n",
       "      <th>Name</th>\n",
       "      <th>Description of Data</th>\n",
       "      <th>Data Type (Numerical or Categorical</th>\n",
       "    </tr>\n",
       "  </thead>\n",
       "  <tbody>\n",
       "    <tr>\n",
       "      <th>0</th>\n",
       "      <td>ID</td>\n",
       "      <td>Identification Number</td>\n",
       "      <td>Categorical</td>\n",
       "    </tr>\n",
       "    <tr>\n",
       "      <th>1</th>\n",
       "      <td>Crime Rate</td>\n",
       "      <td>Crime_Rate per capita</td>\n",
       "      <td>Categorical</td>\n",
       "    </tr>\n",
       "    <tr>\n",
       "      <th>2</th>\n",
       "      <td>Residential_Area</td>\n",
       "      <td>Proportion of residential area</td>\n",
       "      <td>Categorical</td>\n",
       "    </tr>\n",
       "    <tr>\n",
       "      <th>3</th>\n",
       "      <td>Non_Retail</td>\n",
       "      <td>Percentage of business areas used for non-retail</td>\n",
       "      <td>Numerical</td>\n",
       "    </tr>\n",
       "    <tr>\n",
       "      <th>4</th>\n",
       "      <td>River</td>\n",
       "      <td>Near bridge</td>\n",
       "      <td>Categorical</td>\n",
       "    </tr>\n",
       "    <tr>\n",
       "      <th>5</th>\n",
       "      <td>Pollutants</td>\n",
       "      <td>Concentration of pollutants (parts per 10 mill...</td>\n",
       "      <td>Numerical</td>\n",
       "    </tr>\n",
       "    <tr>\n",
       "      <th>6</th>\n",
       "      <td>Rooms</td>\n",
       "      <td>Number of Rooms Per unit</td>\n",
       "      <td>Numerical</td>\n",
       "    </tr>\n",
       "    <tr>\n",
       "      <th>7</th>\n",
       "      <td>Old_Housing</td>\n",
       "      <td>Percentage of units built before second world war</td>\n",
       "      <td>Numerical</td>\n",
       "    </tr>\n",
       "    <tr>\n",
       "      <th>8</th>\n",
       "      <td>Distance_Office</td>\n",
       "      <td>Weighted distances to major office areas</td>\n",
       "      <td>Numerical</td>\n",
       "    </tr>\n",
       "    <tr>\n",
       "      <th>9</th>\n",
       "      <td>Highway_Access</td>\n",
       "      <td>Accessibility to major highways</td>\n",
       "      <td>Categorical</td>\n",
       "    </tr>\n",
       "    <tr>\n",
       "      <th>10</th>\n",
       "      <td>Tax_Rate</td>\n",
       "      <td>Property tax rate per $10,000</td>\n",
       "      <td>Numerical</td>\n",
       "    </tr>\n",
       "    <tr>\n",
       "      <th>11</th>\n",
       "      <td>Student_Teacher_Ratio</td>\n",
       "      <td>Student to teacher ratio</td>\n",
       "      <td>Numerical</td>\n",
       "    </tr>\n",
       "    <tr>\n",
       "      <th>12</th>\n",
       "      <td>Low_Income</td>\n",
       "      <td>Percentage of low income households</td>\n",
       "      <td>Numerical</td>\n",
       "    </tr>\n",
       "    <tr>\n",
       "      <th>13</th>\n",
       "      <td>Price</td>\n",
       "      <td>Median price of homes (in $1000s)</td>\n",
       "      <td>Numerical</td>\n",
       "    </tr>\n",
       "  </tbody>\n",
       "</table>\n",
       "</div>"
      ],
      "text/plain": [
       "                     Name                                Description of Data  \\\n",
       "0                      ID                              Identification Number   \n",
       "1              Crime Rate                              Crime_Rate per capita   \n",
       "2        Residential_Area                     Proportion of residential area   \n",
       "3              Non_Retail   Percentage of business areas used for non-retail   \n",
       "4                   River                                        Near bridge   \n",
       "5              Pollutants  Concentration of pollutants (parts per 10 mill...   \n",
       "6                   Rooms                           Number of Rooms Per unit   \n",
       "7             Old_Housing  Percentage of units built before second world war   \n",
       "8         Distance_Office           Weighted distances to major office areas   \n",
       "9          Highway_Access                    Accessibility to major highways   \n",
       "10               Tax_Rate                      Property tax rate per $10,000   \n",
       "11  Student_Teacher_Ratio                           Student to teacher ratio   \n",
       "12             Low_Income                Percentage of low income households   \n",
       "13                  Price                  Median price of homes (in $1000s)   \n",
       "\n",
       "   Data Type (Numerical or Categorical  \n",
       "0                          Categorical  \n",
       "1                          Categorical  \n",
       "2                          Categorical  \n",
       "3                            Numerical  \n",
       "4                          Categorical  \n",
       "5                            Numerical  \n",
       "6                            Numerical  \n",
       "7                            Numerical  \n",
       "8                            Numerical  \n",
       "9                          Categorical  \n",
       "10                           Numerical  \n",
       "11                           Numerical  \n",
       "12                           Numerical  \n",
       "13                           Numerical  "
      ]
     },
     "execution_count": 4,
     "metadata": {},
     "output_type": "execute_result"
    }
   ],
   "source": [
    "data = [[\"ID\", \"Identification Number\", \"Categorical\"], [\"Crime Rate\", \"Crime_Rate per capita\", \"Categorical\"], [\"Residential_Area\", \"Proportion of residential area\", \"Categorical\"], [\"Non_Retail\", \"Percentage of business areas used for non-retail\", \"Numerical\"], [\"River\", \"Near bridge\", \"Categorical\"], [\"Pollutants\", \"Concentration of pollutants (parts per 10 million)\", \"Numerical\"], [\"Rooms\", \"Number of Rooms Per unit\", \"Numerical\"], [\"Old_Housing\", \"Percentage of units built before second world war\", \"Numerical\"], [\"Distance_Office\", \"Weighted distances to major office areas\", \"Numerical\"], [\"Highway_Access\", \"Accessibility to major highways\", \"Categorical\"], [\"Tax_Rate\", \"Property tax rate per $10,000\", \"Numerical\"], [\"Student_Teacher_Ratio\", \"Student to teacher ratio\", \"Numerical\"], [\"Low_Income\", \"Percentage of low income households\", \"Numerical\"], [\"Price\", \"Median price of homes (in $1000s)\", \"Numerical\"]]\n",
    "pd.DataFrame(data, columns=[\"Name\", \"Description of Data\", \"Data Type (Numerical or Categorical\"])"
   ]
  },
  {
   "cell_type": "markdown",
   "metadata": {},
   "source": [
    "<font color = red size = 3>\n",
    "   [1c] 10%\n",
    "</font>"
   ]
  },
  {
   "cell_type": "markdown",
   "metadata": {},
   "source": [
    "### 2. Data pre-processing [35% of Part I]"
   ]
  },
  {
   "cell_type": "markdown",
   "metadata": {},
   "source": [
    "**a.** For each variable, determine the percentage of missing data. For any column with missing data, describe how you resolve the issue. Clearly state any assumption you made."
   ]
  },
  {
   "cell_type": "markdown",
   "metadata": {},
   "source": [
    "**Response.** \n",
    "The variable ID has 3.557312% missing data and the variable highway_access has 2.964427% missing data. All other variables have no missing data. (code for percentage of missing data below)\n",
    "\n",
    "For the variable ID, the missing values are filled in according to the index of the row. We assume that ID is in ascending order.\n",
    "\n",
    "For the variable Highway_Access, the missing values are imputed using the mode. We assume that for rows with missing highway access, the highway access is the same as the most common highway access."
   ]
  },
  {
   "cell_type": "markdown",
   "metadata": {},
   "source": [
    "<font color = red size = 3>\n",
    "   Sound approach\n",
    "</font>"
   ]
  },
  {
   "cell_type": "code",
   "execution_count": 5,
   "metadata": {
    "scrolled": true
   },
   "outputs": [
    {
     "data": {
      "text/plain": [
       "ID                       3.557312\n",
       "Crime_Rate               0.000000\n",
       "Residential_Area         0.000000\n",
       "Non_Retail               0.000000\n",
       "River                    0.000000\n",
       "Pollutants               0.000000\n",
       "Rooms                    0.000000\n",
       "Old_Housing              0.000000\n",
       "Distance_Office          0.000000\n",
       "Highway_Access           2.964427\n",
       "Tax_Rate                 0.000000\n",
       "Student_Teacher_Ratio    0.000000\n",
       "Low_Income               0.000000\n",
       "Price                    0.000000\n",
       "dtype: float64"
      ]
     },
     "execution_count": 5,
     "metadata": {},
     "output_type": "execute_result"
    }
   ],
   "source": [
    "#Percentage of missing rows\n",
    "(1 - df_copy.count() / df.shape[0]) * 100"
   ]
  },
  {
   "cell_type": "code",
   "execution_count": 6,
   "metadata": {},
   "outputs": [
    {
     "data": {
      "text/plain": [
       "ID                       0.0\n",
       "Crime_Rate               0.0\n",
       "Residential_Area         0.0\n",
       "Non_Retail               0.0\n",
       "River                    0.0\n",
       "Pollutants               0.0\n",
       "Rooms                    0.0\n",
       "Old_Housing              0.0\n",
       "Distance_Office          0.0\n",
       "Highway_Access           0.0\n",
       "Tax_Rate                 0.0\n",
       "Student_Teacher_Ratio    0.0\n",
       "Low_Income               0.0\n",
       "Price                    0.0\n",
       "dtype: float64"
      ]
     },
     "execution_count": 6,
     "metadata": {},
     "output_type": "execute_result"
    }
   ],
   "source": [
    "#fills id column based on index\n",
    "index_list = df.index[df.ID.isnull()].tolist()\n",
    "value_list = [x + 1.0 for x in index_list]\n",
    "a_dictionary = dict(zip(index_list, value_list))\n",
    "df.ID.fillna(a_dictionary, inplace = True)\n",
    "\n",
    "#fills highway_access column based on mode\n",
    "highway_mode = df.Highway_Access.mode()[0]\n",
    "df.Highway_Access.fillna(highway_mode, inplace = True)\n",
    "\n",
    "# New percentage of missing data\n",
    "(1 - df.count() / df.shape[0]) * 100"
   ]
  },
  {
   "cell_type": "markdown",
   "metadata": {},
   "source": [
    "<font color = red size = 3>\n",
    "   [2a] 15%\n",
    "</font>"
   ]
  },
  {
   "cell_type": "markdown",
   "metadata": {},
   "source": [
    "**b.** For each variable, identify outliers (if any) and describe how you resolve the issue. Clearly state any assumption you made."
   ]
  },
  {
   "cell_type": "markdown",
   "metadata": {},
   "source": [
    "**Response.**  \n",
    "Firstly, since 'Non_Retail', 'Old_Housing' and 'Low_Income' all contain percentage values, for these columns we drop all rows that contain values outside the range [0, 100].\n",
    "\n",
    "For the remaining numerical columns, we use boxplots to determine the presence of outliers. From the boxplots below, we can determine that the variables 'Rooms', 'Distance_Office', 'Student_Teacher_Ratio', and 'Price' all have outliers.\n",
    "\n",
    "We resolve outliers by dropping rows that contain them from the dataframe. The boxplots as shown below are using the original data with the outliers.\n",
    "\n",
    "In total, 82 (16.21%) rows were removed from the dataset."
   ]
  },
  {
   "cell_type": "code",
   "execution_count": 7,
   "metadata": {
    "scrolled": false
   },
   "outputs": [
    {
     "data": {
      "image/png": "[encoded data removed]",
      "text/plain": [
       "<Figure size 864x576 with 6 Axes>"
      ]
     },
     "metadata": {
      "needs_background": "light"
     },
     "output_type": "display_data"
    }
   ],
   "source": [
    "#Filter based on percentage values\n",
    "percentage_columns = ['Non_Retail', 'Old_Housing', 'Low_Income']\n",
    "for col in percentage_columns:\n",
    "    filter = (df[col] <= 100) & (df[col] >= 0)\n",
    "    df = df.loc[filter]\n",
    "\n",
    "#Boxplot with Outliers\n",
    "#Putting all numerical features into arr\n",
    "datatypes = df_copy.dtypes\n",
    "numerical_features = datatypes[datatypes!=\"object\"].index\n",
    "percentage_columns.append('ID')\n",
    "numerical_features = np.setdiff1d(numerical_features, percentage_columns)\n",
    "\n",
    "df_copy[numerical_features].plot(kind='box', title = \"Before Outlier Removal\",  subplots=True, layout=(2, 3), figsize=(12, 8))\n",
    "plt.show()"
   ]
  },
  {
   "cell_type": "code",
   "execution_count": 8,
   "metadata": {
    "scrolled": false
   },
   "outputs": [
    {
     "data": {
      "image/png": "[encoded data removed]",
      "text/plain": [
       "<Figure size 864x576 with 6 Axes>"
      ]
     },
     "metadata": {
      "needs_background": "light"
     },
     "output_type": "display_data"
    }
   ],
   "source": [
    "numerical_features = np.setdiff1d(numerical_features, ['Pollutants', 'Tax_Rate'])\n",
    "\n",
    "# Generate IQR data for each column\n",
    "IQR_arr = []\n",
    "for column in list(numerical_features):\n",
    "    Q1 = df[column].quantile(0.25)\n",
    "    Q3 = df[column].quantile(0.75)\n",
    "    IQR = Q3 - Q1    #IQR is interquartile range.\n",
    "    IQR_arr.append((Q1,Q3,IQR,column))\n",
    "    \n",
    "# Returns true for all values that are not outliers and filters the dataframe\n",
    "for IQR in IQR_arr:\n",
    "    filter = (df[IQR[3]] >= IQR[0] - 1.5 * IQR[2]) & (df[IQR[3]] <= IQR[1] + 1.5 *IQR[2])\n",
    "    df = df.loc[filter]\n",
    "\n",
    "# New boxplots\n",
    "numerical_features = np.append(numerical_features, 'Price')\n",
    "df[numerical_features].plot(kind='box', title = \"After Outlier Removal\",  subplots=True, layout=(2, 3), figsize=(12, 8))\n",
    "plt.show()"
   ]
  },
  {
   "cell_type": "code",
   "execution_count": 9,
   "metadata": {},
   "outputs": [
    {
     "name": "stdout",
     "output_type": "stream",
     "text": [
      "82 rows removed\n",
      "16.21% of dataframe records removed\n"
     ]
    }
   ],
   "source": [
    "deleted_rows = df_rows - df.shape[0]\n",
    "print(f\"{deleted_rows} rows removed\")\n",
    "print(f\"{(deleted_rows / df_rows * 100):.2f}% of dataframe records removed\")"
   ]
  },
  {
   "cell_type": "markdown",
   "metadata": {},
   "source": [
    "<font color = red size = 3>\n",
    "   [2c] 14%. Should check how many rows have been removed? Are there too many? What about Old_housing? Any anomalies?\n",
    "</font>"
   ]
  },
  {
   "cell_type": "markdown",
   "metadata": {},
   "source": [
    "**c.** For categorical variables, perform the necessary encoding."
   ]
  },
  {
   "cell_type": "markdown",
   "metadata": {},
   "source": [
    "**Response.** In the data given, there are 5 columns with categorical data: ID, Crime_Rate, Residential_Area, River and Highway_access. \n",
    "We decide to use ordinal encoding for all the categorical data except ID because these datas are ordinal whereby they have a clear ordering and therefore allows us to visualise these datas more clearer. We do not encode ID because ID values are unique and are not our focus for comparison."
   ]
  },
  {
   "cell_type": "code",
   "execution_count": 10,
   "metadata": {
    "scrolled": false
   },
   "outputs": [
    {
     "data": {
      "text/html": [
       "<div>\n",
       "<style scoped>\n",
       "    .dataframe tbody tr th:only-of-type {\n",
       "        vertical-align: middle;\n",
       "    }\n",
       "\n",
       "    .dataframe tbody tr th {\n",
       "        vertical-align: top;\n",
       "    }\n",
       "\n",
       "    .dataframe thead th {\n",
       "        text-align: right;\n",
       "    }\n",
       "</style>\n",
       "<table border=\"1\" class=\"dataframe\">\n",
       "  <thead>\n",
       "    <tr style=\"text-align: right;\">\n",
       "      <th></th>\n",
       "      <th>ID</th>\n",
       "      <th>Crime_Rate</th>\n",
       "      <th>Residential_Area</th>\n",
       "      <th>Non_Retail</th>\n",
       "      <th>River</th>\n",
       "      <th>Pollutants</th>\n",
       "      <th>Rooms</th>\n",
       "      <th>Old_Housing</th>\n",
       "      <th>Distance_Office</th>\n",
       "      <th>Highway_Access</th>\n",
       "      <th>Tax_Rate</th>\n",
       "      <th>Student_Teacher_Ratio</th>\n",
       "      <th>Low_Income</th>\n",
       "      <th>Price</th>\n",
       "      <th>Crime_Rate_Encoded</th>\n",
       "      <th>Residential_Area_Encoded</th>\n",
       "      <th>River_Encoded</th>\n",
       "      <th>Highway_Access_Encoded</th>\n",
       "    </tr>\n",
       "  </thead>\n",
       "  <tbody>\n",
       "    <tr>\n",
       "      <th>0</th>\n",
       "      <td>1.0</td>\n",
       "      <td>Low</td>\n",
       "      <td>Very Low</td>\n",
       "      <td>2.31</td>\n",
       "      <td>Far</td>\n",
       "      <td>0.538</td>\n",
       "      <td>6.575</td>\n",
       "      <td>65.2</td>\n",
       "      <td>4.0900</td>\n",
       "      <td>Low</td>\n",
       "      <td>296</td>\n",
       "      <td>15.3</td>\n",
       "      <td>4.98</td>\n",
       "      <td>24.0</td>\n",
       "      <td>0</td>\n",
       "      <td>0</td>\n",
       "      <td>1</td>\n",
       "      <td>0</td>\n",
       "    </tr>\n",
       "    <tr>\n",
       "      <th>1</th>\n",
       "      <td>2.0</td>\n",
       "      <td>Low</td>\n",
       "      <td>Very Low</td>\n",
       "      <td>7.07</td>\n",
       "      <td>Far</td>\n",
       "      <td>0.469</td>\n",
       "      <td>6.421</td>\n",
       "      <td>78.9</td>\n",
       "      <td>4.9671</td>\n",
       "      <td>Low</td>\n",
       "      <td>242</td>\n",
       "      <td>17.8</td>\n",
       "      <td>9.14</td>\n",
       "      <td>21.6</td>\n",
       "      <td>0</td>\n",
       "      <td>0</td>\n",
       "      <td>1</td>\n",
       "      <td>0</td>\n",
       "    </tr>\n",
       "    <tr>\n",
       "      <th>2</th>\n",
       "      <td>3.0</td>\n",
       "      <td>Low</td>\n",
       "      <td>Very Low</td>\n",
       "      <td>7.07</td>\n",
       "      <td>Far</td>\n",
       "      <td>0.469</td>\n",
       "      <td>7.185</td>\n",
       "      <td>61.1</td>\n",
       "      <td>4.9671</td>\n",
       "      <td>Low</td>\n",
       "      <td>242</td>\n",
       "      <td>17.8</td>\n",
       "      <td>4.03</td>\n",
       "      <td>34.7</td>\n",
       "      <td>0</td>\n",
       "      <td>0</td>\n",
       "      <td>1</td>\n",
       "      <td>0</td>\n",
       "    </tr>\n",
       "    <tr>\n",
       "      <th>3</th>\n",
       "      <td>4.0</td>\n",
       "      <td>Low</td>\n",
       "      <td>Very Low</td>\n",
       "      <td>2.18</td>\n",
       "      <td>Far</td>\n",
       "      <td>0.458</td>\n",
       "      <td>6.998</td>\n",
       "      <td>45.8</td>\n",
       "      <td>6.0622</td>\n",
       "      <td>Low</td>\n",
       "      <td>222</td>\n",
       "      <td>18.7</td>\n",
       "      <td>2.94</td>\n",
       "      <td>33.4</td>\n",
       "      <td>0</td>\n",
       "      <td>0</td>\n",
       "      <td>1</td>\n",
       "      <td>0</td>\n",
       "    </tr>\n",
       "    <tr>\n",
       "      <th>4</th>\n",
       "      <td>5.0</td>\n",
       "      <td>Low</td>\n",
       "      <td>Very Low</td>\n",
       "      <td>2.18</td>\n",
       "      <td>Far</td>\n",
       "      <td>0.458</td>\n",
       "      <td>7.147</td>\n",
       "      <td>54.2</td>\n",
       "      <td>6.0622</td>\n",
       "      <td>Low</td>\n",
       "      <td>222</td>\n",
       "      <td>18.7</td>\n",
       "      <td>5.33</td>\n",
       "      <td>36.2</td>\n",
       "      <td>0</td>\n",
       "      <td>0</td>\n",
       "      <td>1</td>\n",
       "      <td>0</td>\n",
       "    </tr>\n",
       "  </tbody>\n",
       "</table>\n",
       "</div>"
      ],
      "text/plain": [
       "    ID Crime_Rate Residential_Area  Non_Retail River  Pollutants  Rooms  \\\n",
       "0  1.0        Low         Very Low        2.31   Far       0.538  6.575   \n",
       "1  2.0        Low         Very Low        7.07   Far       0.469  6.421   \n",
       "2  3.0        Low         Very Low        7.07   Far       0.469  7.185   \n",
       "3  4.0        Low         Very Low        2.18   Far       0.458  6.998   \n",
       "4  5.0        Low         Very Low        2.18   Far       0.458  7.147   \n",
       "\n",
       "   Old_Housing  Distance_Office Highway_Access  Tax_Rate  \\\n",
       "0         65.2           4.0900            Low       296   \n",
       "1         78.9           4.9671            Low       242   \n",
       "2         61.1           4.9671            Low       242   \n",
       "3         45.8           6.0622            Low       222   \n",
       "4         54.2           6.0622            Low       222   \n",
       "\n",
       "   Student_Teacher_Ratio  Low_Income  Price  Crime_Rate_Encoded  \\\n",
       "0                   15.3        4.98   24.0                   0   \n",
       "1                   17.8        9.14   21.6                   0   \n",
       "2                   17.8        4.03   34.7                   0   \n",
       "3                   18.7        2.94   33.4                   0   \n",
       "4                   18.7        5.33   36.2                   0   \n",
       "\n",
       "   Residential_Area_Encoded  River_Encoded  Highway_Access_Encoded  \n",
       "0                         0              1                       0  \n",
       "1                         0              1                       0  \n",
       "2                         0              1                       0  \n",
       "3                         0              1                       0  \n",
       "4                         0              1                       0  "
      ]
     },
     "execution_count": 10,
     "metadata": {},
     "output_type": "execute_result"
    }
   ],
   "source": [
    "df.reset_index(drop = True, inplace = True)\n",
    "\n",
    "# List of categorical values, encoding is peformed based on index of value in list\n",
    "crime_rate = ['Low', 'Moderate', 'High']\n",
    "reside = ['Very Low', 'Low', 'Moderate', 'High', 'Very High']\n",
    "highway =  ['Low', 'Moderate', 'High']\n",
    "river = ['Near', 'Far']\n",
    "\n",
    "columns = [crime_rate, reside, river, highway]\n",
    "\n",
    "# Use OrdinalEncoder to encode values to new dataframe\n",
    "enc = OrdinalEncoder(categories = columns)\n",
    "encoded_df = pd.DataFrame(enc.fit_transform(df[['Crime_Rate', 'Residential_Area', 'River', 'Highway_Access']]),\n",
    "                             columns = ['Crime_Rate_Encoded', 'Residential_Area_Encoded','River_Encoded', 'Highway_Access_Encoded'],\n",
    "                             dtype = int)\n",
    "\n",
    "# Merge both dataframes\n",
    "frames = [df, encoded_df]\n",
    "df = pd.concat(frames, axis = 1)\n",
    "df = df.loc[:,~df.columns.duplicated()]\n",
    "df.head()"
   ]
  },
  {
   "cell_type": "markdown",
   "metadata": {},
   "source": [
    "<font color = red size = 3>\n",
    "   [2c] 5%\n",
    "</font>"
   ]
  },
  {
   "cell_type": "markdown",
   "metadata": {},
   "source": [
    "### 3.\tExploratory analysis and visualization [50% of Part I]"
   ]
  },
  {
   "cell_type": "markdown",
   "metadata": {},
   "source": [
    "**a.** For each variable, provide relevant summary statistics"
   ]
  },
  {
   "cell_type": "markdown",
   "metadata": {},
   "source": [
    "**Response.** "
   ]
  },
  {
   "cell_type": "code",
   "execution_count": 11,
   "metadata": {},
   "outputs": [
    {
     "data": {
      "text/html": [
       "<div>\n",
       "<style scoped>\n",
       "    .dataframe tbody tr th:only-of-type {\n",
       "        vertical-align: middle;\n",
       "    }\n",
       "\n",
       "    .dataframe tbody tr th {\n",
       "        vertical-align: top;\n",
       "    }\n",
       "\n",
       "    .dataframe thead th {\n",
       "        text-align: right;\n",
       "    }\n",
       "</style>\n",
       "<table border=\"1\" class=\"dataframe\">\n",
       "  <thead>\n",
       "    <tr style=\"text-align: right;\">\n",
       "      <th></th>\n",
       "      <th>Non_Retail</th>\n",
       "      <th>Pollutants</th>\n",
       "      <th>Rooms</th>\n",
       "      <th>Old_Housing</th>\n",
       "      <th>Distance_Office</th>\n",
       "      <th>Tax_Rate</th>\n",
       "      <th>Student_Teacher_Ratio</th>\n",
       "      <th>Low_Income</th>\n",
       "      <th>Price</th>\n",
       "    </tr>\n",
       "  </thead>\n",
       "  <tbody>\n",
       "    <tr>\n",
       "      <th>count</th>\n",
       "      <td>424.000000</td>\n",
       "      <td>424.000000</td>\n",
       "      <td>424.000000</td>\n",
       "      <td>424.000000</td>\n",
       "      <td>424.000000</td>\n",
       "      <td>424.000000</td>\n",
       "      <td>424.000000</td>\n",
       "      <td>424.000000</td>\n",
       "      <td>424.000000</td>\n",
       "    </tr>\n",
       "    <tr>\n",
       "      <th>mean</th>\n",
       "      <td>11.501557</td>\n",
       "      <td>0.555549</td>\n",
       "      <td>6.197226</td>\n",
       "      <td>68.310377</td>\n",
       "      <td>3.826733</td>\n",
       "      <td>411.933962</td>\n",
       "      <td>18.689387</td>\n",
       "      <td>13.978892</td>\n",
       "      <td>20.590566</td>\n",
       "    </tr>\n",
       "    <tr>\n",
       "      <th>std</th>\n",
       "      <td>6.776248</td>\n",
       "      <td>0.116887</td>\n",
       "      <td>0.490449</td>\n",
       "      <td>28.069039</td>\n",
       "      <td>2.010780</td>\n",
       "      <td>167.714678</td>\n",
       "      <td>1.911977</td>\n",
       "      <td>10.684515</td>\n",
       "      <td>6.286547</td>\n",
       "    </tr>\n",
       "    <tr>\n",
       "      <th>min</th>\n",
       "      <td>0.740000</td>\n",
       "      <td>0.385000</td>\n",
       "      <td>4.880000</td>\n",
       "      <td>2.900000</td>\n",
       "      <td>1.174200</td>\n",
       "      <td>188.000000</td>\n",
       "      <td>14.700000</td>\n",
       "      <td>1.980000</td>\n",
       "      <td>5.600000</td>\n",
       "    </tr>\n",
       "    <tr>\n",
       "      <th>25%</th>\n",
       "      <td>5.860000</td>\n",
       "      <td>0.452000</td>\n",
       "      <td>5.886500</td>\n",
       "      <td>45.075000</td>\n",
       "      <td>2.124125</td>\n",
       "      <td>284.750000</td>\n",
       "      <td>17.550000</td>\n",
       "      <td>7.845000</td>\n",
       "      <td>16.475000</td>\n",
       "    </tr>\n",
       "    <tr>\n",
       "      <th>50%</th>\n",
       "      <td>9.900000</td>\n",
       "      <td>0.538000</td>\n",
       "      <td>6.167000</td>\n",
       "      <td>76.700000</td>\n",
       "      <td>3.275900</td>\n",
       "      <td>341.000000</td>\n",
       "      <td>19.100000</td>\n",
       "      <td>12.335000</td>\n",
       "      <td>20.550000</td>\n",
       "    </tr>\n",
       "    <tr>\n",
       "      <th>75%</th>\n",
       "      <td>18.100000</td>\n",
       "      <td>0.624000</td>\n",
       "      <td>6.487750</td>\n",
       "      <td>93.925000</td>\n",
       "      <td>5.255350</td>\n",
       "      <td>666.000000</td>\n",
       "      <td>20.200000</td>\n",
       "      <td>17.225000</td>\n",
       "      <td>23.900000</td>\n",
       "    </tr>\n",
       "    <tr>\n",
       "      <th>max</th>\n",
       "      <td>27.740000</td>\n",
       "      <td>0.871000</td>\n",
       "      <td>7.691000</td>\n",
       "      <td>100.000000</td>\n",
       "      <td>9.222900</td>\n",
       "      <td>711.000000</td>\n",
       "      <td>21.200000</td>\n",
       "      <td>100.000000</td>\n",
       "      <td>36.400000</td>\n",
       "    </tr>\n",
       "  </tbody>\n",
       "</table>\n",
       "</div>"
      ],
      "text/plain": [
       "       Non_Retail  Pollutants       Rooms  Old_Housing  Distance_Office  \\\n",
       "count  424.000000  424.000000  424.000000   424.000000       424.000000   \n",
       "mean    11.501557    0.555549    6.197226    68.310377         3.826733   \n",
       "std      6.776248    0.116887    0.490449    28.069039         2.010780   \n",
       "min      0.740000    0.385000    4.880000     2.900000         1.174200   \n",
       "25%      5.860000    0.452000    5.886500    45.075000         2.124125   \n",
       "50%      9.900000    0.538000    6.167000    76.700000         3.275900   \n",
       "75%     18.100000    0.624000    6.487750    93.925000         5.255350   \n",
       "max     27.740000    0.871000    7.691000   100.000000         9.222900   \n",
       "\n",
       "         Tax_Rate  Student_Teacher_Ratio  Low_Income       Price  \n",
       "count  424.000000             424.000000  424.000000  424.000000  \n",
       "mean   411.933962              18.689387   13.978892   20.590566  \n",
       "std    167.714678               1.911977   10.684515    6.286547  \n",
       "min    188.000000              14.700000    1.980000    5.600000  \n",
       "25%    284.750000              17.550000    7.845000   16.475000  \n",
       "50%    341.000000              19.100000   12.335000   20.550000  \n",
       "75%    666.000000              20.200000   17.225000   23.900000  \n",
       "max    711.000000              21.200000  100.000000   36.400000  "
      ]
     },
     "execution_count": 11,
     "metadata": {},
     "output_type": "execute_result"
    }
   ],
   "source": [
    "numerical_features = datatypes[datatypes!=\"object\"].index\n",
    "numerical_features = np.delete(numerical_features, np.where(numerical_features == \"ID\"))\n",
    "df[numerical_features].describe()"
   ]
  },
  {
   "cell_type": "markdown",
   "metadata": {},
   "source": [
    "<font color = red size = 3>\n",
    "   [3a] 8%. Most of these measures e.g. mean, std, min, max do not apply for categorical variables  \n",
    "</font>"
   ]
  },
  {
   "cell_type": "markdown",
   "metadata": {},
   "source": [
    "**b.** For each variable, provide an appropriate visualisation depicting the distribution of its values, and summarize any key observation(s) you made."
   ]
  },
  {
   "cell_type": "markdown",
   "metadata": {},
   "source": [
    "**Response.** We decide to drop ID because there will not be any insights that we can take away from its histogram. From the histograms and bar charts below, we are able to observe a few key observations. \n",
    "1) Low_Income and Distance_Office are left skewed.  \n",
    "2) Tax_Rate, Old_housing and Student_Teacher_Ratio are very right skewed.  \n",
    "3) Non_Retail, Rooms and Price follows a normal distribution.  \n",
    "4) One unique histogram is that of pollutants whereby it is evenly distributed.  \n",
    "5) All categorical features have a dominant value."
   ]
  },
  {
   "cell_type": "code",
   "execution_count": 12,
   "metadata": {
    "scrolled": false
   },
   "outputs": [
    {
     "data": {
      "image/png": "[encoded data removed]",
      "text/plain": [
       "<Figure size 1080x864 with 16 Axes>"
      ]
     },
     "metadata": {
      "needs_background": "light"
     },
     "output_type": "display_data"
    }
   ],
   "source": [
    "# Plot histograms for numerical features\n",
    "df[numerical_features].hist(layout=(4, 4), figsize=(15, 12), bins=40)\n",
    "plt.suptitle(\"Numerical Features\")\n",
    "plt.show()"
   ]
  },
  {
   "cell_type": "code",
   "execution_count": 13,
   "metadata": {},
   "outputs": [
    {
     "data": {
      "image/png": "[encoded data removed]",
      "text/plain": [
       "<Figure size 1296x360 with 4 Axes>"
      ]
     },
     "metadata": {
      "needs_background": "light"
     },
     "output_type": "display_data"
    }
   ],
   "source": [
    "# Plot bar graphs for categorical features\n",
    "\n",
    "categorical_features = datatypes[datatypes==\"object\"].index\n",
    "\n",
    "n = len(categorical_features)\n",
    "\n",
    "r, c = 1,4\n",
    "fig, ax = plt.subplots(r, c, figsize=(18,5))\n",
    "\n",
    "for i in range(n):\n",
    "    feature = categorical_features[i]\n",
    "    ax = plt.subplot(r,c,i+1)\n",
    "    ax.set_title(feature)\n",
    "    df[feature].value_counts(normalize=True).plot(kind='bar')\n",
    "    \n",
    "plt.suptitle(\"Categorical Features\")\n",
    "plt.show()"
   ]
  },
  {
   "cell_type": "markdown",
   "metadata": {},
   "source": [
    "<font color=red size=4>\n",
    "    [3b]: 15%. Histogram is not applicable for categorical variables. Missing separate summary for categorical\n",
    "</font>"
   ]
  },
  {
   "cell_type": "markdown",
   "metadata": {},
   "source": [
    "**c.** Perform bi-variate analysis on the variables. You do not need to present the analysis of every pair of variables; only focus on the pairs you believe are worth investigating and explain. For each pair, describe the relationship between the two variables. Use appropriate statistical methods and/or visualizations."
   ]
  },
  {
   "cell_type": "markdown",
   "metadata": {},
   "source": [
    "**Response.** We decide to do bi-variate analysis on income against median price of homes in thousands , we are able to see that it closely represents a negative ln graph. We then derive the correlation between the 2 variables which is -0.7892923. This indicates that the variables are closely related.  Furthermore, we are also able to obtain a negative covariance of -31.75616921 which indicates that median price of homes in thousands and percentage of low income moves in the opposite direction. Thus, as the percentage of low income households decreases, the median price of homes in thousands increases."
   ]
  },
  {
   "cell_type": "code",
   "execution_count": 14,
   "metadata": {},
   "outputs": [
    {
     "data": {
      "image/png": "[encoded data removed]",
      "text/plain": [
       "<Figure size 576x360 with 1 Axes>"
      ]
     },
     "metadata": {
      "needs_background": "light"
     },
     "output_type": "display_data"
    }
   ],
   "source": [
    "xs = df.Price\n",
    "ys = df.Low_Income\n",
    "\n",
    "plt.figure(figsize=(8,5))\n",
    "plt.scatter(xs, ys)\n",
    "plt.title(\"Plot of Price vs Low Income\", fontsize=15)\n",
    "plt.xlabel(\"Median price of homes in $1000s\", fontsize=12)\n",
    "plt.ylabel(\"Percentage of Low Income\", fontsize=12)\n",
    "plt.show()"
   ]
  },
  {
   "cell_type": "code",
   "execution_count": 15,
   "metadata": {},
   "outputs": [
    {
     "data": {
      "text/plain": [
       "array([[ 1.        , -0.45552412],\n",
       "       [-0.45552412,  1.        ]])"
      ]
     },
     "execution_count": 15,
     "metadata": {},
     "output_type": "execute_result"
    }
   ],
   "source": [
    "corr = np.corrcoef(xs, ys)\n",
    "corr"
   ]
  },
  {
   "cell_type": "code",
   "execution_count": 16,
   "metadata": {},
   "outputs": [
    {
     "data": {
      "text/plain": [
       "array([[ 39.52066729, -30.5969632 ],\n",
       "       [-30.5969632 , 114.15886189]])"
      ]
     },
     "execution_count": 16,
     "metadata": {},
     "output_type": "execute_result"
    }
   ],
   "source": [
    "cov = np.cov(xs, ys)\n",
    "cov"
   ]
  },
  {
   "cell_type": "markdown",
   "metadata": {},
   "source": [
    "<font color=red size=4>\n",
    "    What is the relevance of individual variable variances?\n",
    "</font>"
   ]
  },
  {
   "cell_type": "markdown",
   "metadata": {},
   "source": [
    "**Response.** We decide to do bi-variate analysis on No of Rooms against median price of homes in thousands , we can see that it is a positive linear graph. We are able to derive that that firstly, the correlation is 0.58083482. This indicates that there is actually a legitimate relationship between these 2 variables. Furthermore, we are also able to obtain a positive covariance of 1.77406727 which indicates that median price of homes in thousands and percentage of low income moves in the same direction. Hence, we conclude that as the number of rooms in a house increases , the median price of homes in thousands also increases."
   ]
  },
  {
   "cell_type": "code",
   "execution_count": 17,
   "metadata": {},
   "outputs": [
    {
     "data": {
      "image/png": "[encoded data removed]",
      "text/plain": [
       "<Figure size 576x360 with 1 Axes>"
      ]
     },
     "metadata": {
      "needs_background": "light"
     },
     "output_type": "display_data"
    }
   ],
   "source": [
    "xs = df.Price\n",
    "ys = df.Rooms\n",
    "\n",
    "plt.figure(figsize=(8,5))\n",
    "plt.scatter(xs, ys)\n",
    "plt.title(\"Plot of Price vs No Of Rooms\", fontsize=15)\n",
    "plt.xlabel(\"Median price of homes in $1000s\", fontsize=12)\n",
    "plt.ylabel(\"No of Rooms\", fontsize=12)\n",
    "plt.show()"
   ]
  },
  {
   "cell_type": "code",
   "execution_count": 18,
   "metadata": {},
   "outputs": [
    {
     "data": {
      "text/plain": [
       "array([[1.        , 0.58416522],\n",
       "       [0.58416522, 1.        ]])"
      ]
     },
     "execution_count": 18,
     "metadata": {},
     "output_type": "execute_result"
    }
   ],
   "source": [
    "corr = np.corrcoef(xs, ys)\n",
    "corr"
   ]
  },
  {
   "cell_type": "code",
   "execution_count": 19,
   "metadata": {},
   "outputs": [
    {
     "data": {
      "text/plain": [
       "array([[39.52066729,  1.80111774],\n",
       "       [ 1.80111774,  0.24054069]])"
      ]
     },
     "execution_count": 19,
     "metadata": {},
     "output_type": "execute_result"
    }
   ],
   "source": [
    "cov = np.cov(xs, ys)\n",
    "cov"
   ]
  },
  {
   "cell_type": "markdown",
   "metadata": {},
   "source": [
    "**Response.** We decide to do bi-variate analysis on Percentage of Old Housing against Percentage of Low Income households , we can see that it is similar to a Ln graph. We are able to derive that that firstly, the correlation is  0.65340102.  This indicates that there is actually a legitimate relationship between these 2 variables. Furthermore, we are also able to obtain a positive covariance of 118.8426922 which indicates that the percentages of Old Housing and Percentages of Low Incomes moves in the same direction. Hence, as the Percentage of Low Income households increases, the Percentage of Old Housing also increases."
   ]
  },
  {
   "cell_type": "code",
   "execution_count": 20,
   "metadata": {},
   "outputs": [
    {
     "data": {
      "image/png": "[encoded data removed]",
      "text/plain": [
       "<Figure size 576x360 with 1 Axes>"
      ]
     },
     "metadata": {
      "needs_background": "light"
     },
     "output_type": "display_data"
    }
   ],
   "source": [
    "xs = df.Low_Income\n",
    "ys = df.Old_Housing\n",
    "\n",
    "plt.figure(figsize=(8,5))\n",
    "plt.scatter(xs, ys)\n",
    "plt.title(\"Plot Low income vs Old Housing\", fontsize=15)\n",
    "plt.xlabel(\"Percentage of Low Income\", fontsize=12)\n",
    "plt.ylabel(\"Percentage of Old Housing\", fontsize=12)\n",
    "plt.show()"
   ]
  },
  {
   "cell_type": "code",
   "execution_count": 21,
   "metadata": {},
   "outputs": [
    {
     "data": {
      "text/plain": [
       "array([[1.        , 0.40121868],\n",
       "       [0.40121868, 1.        ]])"
      ]
     },
     "execution_count": 21,
     "metadata": {},
     "output_type": "execute_result"
    }
   ],
   "source": [
    "corr = np.corrcoef(xs, ys)\n",
    "corr"
   ]
  },
  {
   "cell_type": "code",
   "execution_count": 22,
   "metadata": {},
   "outputs": [
    {
     "data": {
      "text/plain": [
       "array([[114.15886189, 120.32711555],\n",
       "       [120.32711555, 787.87095589]])"
      ]
     },
     "execution_count": 22,
     "metadata": {},
     "output_type": "execute_result"
    }
   ],
   "source": [
    "cov = np.cov(xs, ys)\n",
    "cov"
   ]
  },
  {
   "cell_type": "markdown",
   "metadata": {},
   "source": [
    "**Response.** We decide to do bi-variate analysis on Percentage of Low Income and Crime Rate using Boxplot, from the boxplot, we can see that as that the mean of Low Income percentage is highest for high crime rate followed by moderate and low, this indicates that the higher the crime rate, the higher the percentage of lower income and that this relationship is legitimate."
   ]
  },
  {
   "cell_type": "code",
   "execution_count": 38,
   "metadata": {},
   "outputs": [
    {
     "data": {
      "image/png": "[encoded data removed]",
      "text/plain": [
       "<Figure size 432x288 with 1 Axes>"
      ]
     },
     "metadata": {
      "needs_background": "light"
     },
     "output_type": "display_data"
    }
   ],
   "source": [
    "df[['Low_Income','Crime_Rate']].boxplot(by='Crime_Rate')\n",
    "plt.show()"
   ]
  },
  {
   "cell_type": "markdown",
   "metadata": {},
   "source": [
    "**Response.** We decide to do bi-variate analysis on No of Rooms against percentage of Low Income , we can see that it is similar to a negative Ln graph. We are able to derive that that firstly, the correlation is -0.56333616.  This indicates that there is actually a legitimate relationship between these 2 variables. Furthermore, we are also able to obtain a covariance of -1.77098954 which indicates that the percentages of Low Income and Rooms moves in the opposite direction. Hence, as the Percentage of Low Income households increases, the No of Rooms decreases."
   ]
  },
  {
   "cell_type": "code",
   "execution_count": 24,
   "metadata": {},
   "outputs": [
    {
     "data": {
      "image/png": "[encoded data removed]",
      "text/plain": [
       "<Figure size 576x360 with 1 Axes>"
      ]
     },
     "metadata": {
      "needs_background": "light"
     },
     "output_type": "display_data"
    }
   ],
   "source": [
    "xs = df.Low_Income\n",
    "ys = df.Rooms\n",
    "\n",
    "plt.figure(figsize=(8,5))\n",
    "plt.scatter(xs, ys)\n",
    "plt.title(\"Plot Low income vs Rooms\", fontsize=15)\n",
    "plt.xlabel(\"Percentage of Low Income\", fontsize=12)\n",
    "plt.ylabel(\"No Of Rooms\", fontsize=12)\n",
    "plt.show()"
   ]
  },
  {
   "cell_type": "code",
   "execution_count": 25,
   "metadata": {},
   "outputs": [
    {
     "data": {
      "text/plain": [
       "array([[ 1.        , -0.34688457],\n",
       "       [-0.34688457,  1.        ]])"
      ]
     },
     "execution_count": 25,
     "metadata": {},
     "output_type": "execute_result"
    }
   ],
   "source": [
    "corr = np.corrcoef(xs, ys)\n",
    "corr"
   ]
  },
  {
   "cell_type": "code",
   "execution_count": 26,
   "metadata": {},
   "outputs": [
    {
     "data": {
      "text/plain": [
       "array([[114.15886189,  -1.81774968],\n",
       "       [ -1.81774968,   0.24054069]])"
      ]
     },
     "execution_count": 26,
     "metadata": {},
     "output_type": "execute_result"
    }
   ],
   "source": [
    "cov = np.cov(xs, ys)\n",
    "cov"
   ]
  },
  {
   "cell_type": "markdown",
   "metadata": {},
   "source": [
    "<font color=red size=4>\n",
    "    [3c]: 20%\n",
    "</font>"
   ]
  },
  {
   "cell_type": "markdown",
   "metadata": {},
   "source": [
    "## Part II: Modeling [12% of final grade]"
   ]
  },
  {
   "cell_type": "markdown",
   "metadata": {},
   "source": [
    "### 1. Problem formulation [15% of Part II]"
   ]
  },
  {
   "cell_type": "markdown",
   "metadata": {},
   "source": [
    "**a.** Formulate one regression problem and one classification based on the dataset, in **no more than 50 words**."
   ]
  },
  {
   "cell_type": "markdown",
   "metadata": {},
   "source": [
    "**Response.** <br><br>\n",
    "Regression: `Price`\n",
    "it is important to understand what drives house prices and develop a sound method to be able to predict the fair value of a house. <br><br>\n",
    "Classfication: `Crime_Rate`  \n",
    "The country has a low crime rate, it is important that we figure out the variables that contribute to it."
   ]
  },
  {
   "cell_type": "markdown",
   "metadata": {},
   "source": [
    "**b.** State which problem (regression or classification) you would be investigating and why, in **no more than 20 words**."
   ]
  },
  {
   "cell_type": "markdown",
   "metadata": {},
   "source": [
    "**Response.** \n",
    "<br>Regression. Determining the `Price` of homes is more likely to be  affected by multiple factors compared to `Crime_Rate`."
   ]
  },
  {
   "cell_type": "markdown",
   "metadata": {},
   "source": [
    "**c.** Clearly specify the dependent variable you are predicting, and its significance, in **no more than 20 words**"
   ]
  },
  {
   "cell_type": "markdown",
   "metadata": {},
   "source": [
    "**Response.** Dependent variable: Price of homes <br> Home ownership is a major decision and is very likely to be affected by price."
   ]
  },
  {
   "cell_type": "markdown",
   "metadata": {},
   "source": [
    "### 2. Model training [30% of Part II]"
   ]
  },
  {
   "cell_type": "markdown",
   "metadata": {},
   "source": [
    "**a.** Perform feature selection. For each variable, decide if you want to include it as a feature and provide a justification. You may leverage on your analysis in Part I: EDA and/or perform additional analysis."
   ]
  },
  {
   "cell_type": "markdown",
   "metadata": {},
   "source": [
    "**Response.** \n",
    "\n",
    "From the barplots plotted in Part 1 Question 3 b., we observed that all of the categorical variables have a dominant value whose frequency exceeds 50%.  The lack of variation in these variables means that these variables are likey to have little explanatory power on the variation in `Price`.  Hence we will not select these features. <br><br>\n",
    "To select numerical features, we first determine whether our dependent variable `Price` is correlated with our independent variables. This is visualised using a heatmap. From the heatmap below, we can observe that variables like `Student_Teacher_Ratio` and `Distance_Office` are not correlated with `Price`. After that, we write a function to select the features based on a threshold."
   ]
  },
  {
   "cell_type": "code",
   "execution_count": 27,
   "metadata": {
    "scrolled": false
   },
   "outputs": [
    {
     "data": {
      "image/png": "[encoded data removed]",
      "text/plain": [
       "<Figure size 432x288 with 2 Axes>"
      ]
     },
     "metadata": {
      "needs_background": "light"
     },
     "output_type": "display_data"
    }
   ],
   "source": [
    "features_selected = numerical_features\n",
    "r2 = df[features_selected].corr()**2\n",
    "sns.heatmap(r2)\n",
    "plt.show()"
   ]
  },
  {
   "cell_type": "code",
   "execution_count": 28,
   "metadata": {},
   "outputs": [
    {
     "name": "stdout",
     "output_type": "stream",
     "text": [
      "updated selected features: ['Non_Retail', 'Pollutants', 'Rooms', 'Old_Housing', 'Tax_Rate']\n"
     ]
    }
   ],
   "source": [
    "# given a dataframe df, and a target variable and threshold\n",
    "# return all columns in df which are 'highly' correlated to target\n",
    "# definition of 'high' correlated given by parameter threshold\n",
    "\n",
    "def corr_features(df, target, threshold):\n",
    "    corr_features = []\n",
    "    for feature in df.columns:\n",
    "        if feature==target: continue\n",
    "        x = df[feature]\n",
    "        y = df[target]\n",
    "        r2 = np.corrcoef(x,y)[0][1]\n",
    "        if abs(r2)>threshold:\n",
    "            corr_features.append(feature)\n",
    "    return corr_features\n",
    "\n",
    "features_selected = corr_features(df[features_selected], 'Price', 0.5)\n",
    "print(f\"updated selected features: {features_selected}\")"
   ]
  },
  {
   "cell_type": "markdown",
   "metadata": {},
   "source": [
    "We further check if our selected features are highly correlated to each other. For example from the heatmap below, we can observe that `Pollutants` and `Non_Retail` are closely correlated to each other. Including multiple closely correlated features would be redundant and not improve our final model. Using some additional functions, we filter such features out to get our final list of selected features."
   ]
  },
  {
   "cell_type": "code",
   "execution_count": 29,
   "metadata": {
    "scrolled": false
   },
   "outputs": [
    {
     "data": {
      "image/png": "[encoded data removed]",
      "text/plain": [
       "<Figure size 432x288 with 2 Axes>"
      ]
     },
     "metadata": {
      "needs_background": "light"
     },
     "output_type": "display_data"
    }
   ],
   "source": [
    "r2 = df[features_selected].corr()**2\n",
    "sns.heatmap(r2)\n",
    "plt.show()"
   ]
  },
  {
   "cell_type": "code",
   "execution_count": 30,
   "metadata": {},
   "outputs": [
    {
     "name": "stdout",
     "output_type": "stream",
     "text": [
      "Final selected features : ['Rooms', 'Tax_Rate']\n"
     ]
    }
   ],
   "source": [
    "# get the feature that has the most number of features\n",
    "# it is correlated with, beyond certain threshold\n",
    "\n",
    "def most_corr_feature(df, threshold):\n",
    "    r2_matrix = abs(df.corr())\n",
    "    count = r2_matrix[r2_matrix>threshold].count()\n",
    "    return count.sort_values(ascending=False).index[0]\n",
    "\n",
    "# return true if all the features are uncorrelated,\n",
    "# as defined by a threshold\n",
    "\n",
    "def all_features_uncorr(df, threshold):\n",
    "    r2_matrix = abs(df.corr())\n",
    "    n = len(r2_matrix)\n",
    "    return r2_matrix[r2_matrix>threshold].count().sum()==n\n",
    "\n",
    "# get a set of uncorrelated features\n",
    "\n",
    "def get_uncorr_features(df, threshold):\n",
    "    features = df.columns.tolist()\n",
    "    while all_features_uncorr(df[features], threshold) == False:\n",
    "        most_corr_fea = most_corr_feature(df[features], threshold)\n",
    "        features.remove(most_corr_fea)\n",
    "    return features\n",
    "\n",
    "features_selected = get_uncorr_features(df[features_selected], 0.5)\n",
    "print(f\"Final selected features : {features_selected}\")"
   ]
  },
  {
   "cell_type": "code",
   "execution_count": 31,
   "metadata": {},
   "outputs": [
    {
     "data": {
      "image/png": "[encoded data removed]",
      "text/plain": [
       "<Figure size 432x288 with 2 Axes>"
      ]
     },
     "metadata": {
      "needs_background": "light"
     },
     "output_type": "display_data"
    }
   ],
   "source": [
    "df[features_selected+['Price']].corr()\n",
    "r2 = abs(df[features_selected+['Price']].corr())\n",
    "sns.heatmap(r2)\n",
    "\n",
    "plt.show()"
   ]
  },
  {
   "cell_type": "markdown",
   "metadata": {},
   "source": [
    "**b.** Split the dataset into train and test sets. Describe how you split step by step."
   ]
  },
  {
   "cell_type": "markdown",
   "metadata": {},
   "source": [
    "**Response.** We make use of the `train_test_split` function found in the `sklearn.model_selection` package. We use 'X' to denote the subset of our dataframe that contains values for the features selected in the previous part and 'y' to denote the values for the dependent variable 'Price'. The `train_test_split` function splits X and y randomly into 75/25 as we wish to keep 25% of the dataset for model evaluation purpose. `random_state` is set to 42 to ensure reproducibility of result."
   ]
  },
  {
   "cell_type": "code",
   "execution_count": 32,
   "metadata": {},
   "outputs": [],
   "source": [
    "### train_test_split\n",
    "\n",
    "from sklearn.model_selection import train_test_split\n",
    "\n",
    "X = df[features_selected]\n",
    "y = df[[\"Price\"]]\n",
    "\n",
    "X_train, X_test, y_train, y_test = train_test_split(X, y, test_size = 0.25, random_state = 42)"
   ]
  },
  {
   "cell_type": "markdown",
   "metadata": {},
   "source": [
    "**c.** State the model(s) you will train, and explain your choice(s), in **no more than 50 words per model**. You only need to\n",
    "train one model, but if you do train more models, limit yourself to no more than three---Grading is based on the validity and soundness of your model, rather than the quantity."
   ]
  },
  {
   "cell_type": "markdown",
   "metadata": {},
   "source": [
    "**Response.** "
   ]
  },
  {
   "cell_type": "markdown",
   "metadata": {},
   "source": [
    "We will train 2 models: `Linear Regression` and `Ridge`.\n",
    "\n",
    "`Linear Regression` is chosen as it is one of the most common regression training models. It follows the least squares method to determine the coefficient for each of the selected features. However when features are correlated, the model may become highly sensitive to random errors in the observed target.\n",
    "\n",
    "`Ridge` regression addresses some of the problems of Ordinary Least Squares by imposing a penalty on the size of the coefficients. Hence, this model is less reliant on features being independent from each other. "
   ]
  },
  {
   "cell_type": "markdown",
   "metadata": {},
   "source": [
    "**d.** For each model, perform the training, and report the trained parameters and the training scores, if applicable. "
   ]
  },
  {
   "cell_type": "markdown",
   "metadata": {},
   "source": [
    "**Response.** For each of the model, the training scores are reported as below and we also included the equations that we will get to predict the response variable"
   ]
  },
  {
   "cell_type": "code",
   "execution_count": 33,
   "metadata": {},
   "outputs": [
    {
     "name": "stdout",
     "output_type": "stream",
     "text": [
      "Model 1: Linear Regression \n",
      "--------------------------\n",
      "Features : ['Rooms', 'Tax_Rate']\n",
      "Coefficients: [ 5.98870584 -0.02051891]\n",
      "Intercept : -7.97064092750821\n",
      "Coeff of Determination : 0.632912965099957\n",
      "\n",
      "Equation: Price = -7.971 + Rooms x 5.989 + Tax_Rate x -0.021 "
     ]
    }
   ],
   "source": [
    "## model fitting for linear regression\n",
    "\n",
    "from sklearn.linear_model import LinearRegression\n",
    "\n",
    "model1 = LinearRegression().fit(X_train, y_train)\n",
    "model1_r2 = model1.score(X_train, y_train)\n",
    "coef1 = model1.coef_\n",
    "bias1 = model1.intercept_\n",
    "features1 = X_train.columns.tolist()\n",
    "\n",
    "print(\"Model 1: Linear Regression \")\n",
    "print(\"--------------------------\")\n",
    "print(f\"Features : {features1}\")\n",
    "print(f\"Coefficients: {coef1[0]}\")\n",
    "print(f\"Intercept : {bias1[0]}\")\n",
    "print(f\"Coeff of Determination : {model1_r2}\")\n",
    "\n",
    "print(f\"\\nEquation: Price = {bias1[0]:.3f}\", end = \" \")\n",
    "for i in range(len(features1)):\n",
    "    print(f\"+ {features1[i]} x {coef1[0][i]:.3f}\", end = \" \")"
   ]
  },
  {
   "cell_type": "code",
   "execution_count": 34,
   "metadata": {},
   "outputs": [
    {
     "name": "stdout",
     "output_type": "stream",
     "text": [
      "Model 2: Ridge Regression\n",
      "-------------------------\n",
      "Features : ['Rooms', 'Tax_Rate']\n",
      "Coefficients: [ 5.91100667 -0.02057168]\n",
      "Intercept : -7.468014198561104\n",
      "Coeff of Determination : 0.6328774238473562\n",
      "\n",
      "Equation: Price = -7.468 + Rooms x 5.911 + Tax_Rate x -0.021 "
     ]
    }
   ],
   "source": [
    "## model fitting for ridge\n",
    "\n",
    "from sklearn.linear_model import Ridge\n",
    "\n",
    "model2 = Ridge().fit(X_train, y_train)\n",
    "model2_r2 = model2.score(X_train, y_train)\n",
    "coef2 = model2.coef_\n",
    "bias2 = model2.intercept_\n",
    "features2 = X_train.columns.tolist()\n",
    "\n",
    "print(\"Model 2: Ridge Regression\")\n",
    "print(\"-------------------------\")\n",
    "print(f\"Features : {features2}\")\n",
    "print(f\"Coefficients: {coef2[0]}\")\n",
    "print(f\"Intercept : {bias2[0]}\")\n",
    "print(f\"Coeff of Determination : {model2_r2}\")\n",
    "\n",
    "print(f\"\\nEquation: Price = {bias2[0]:.3f}\", end = \" \")\n",
    "for i in range(len(features2)):\n",
    "    print(f\"+ {features2[i]} x {coef2[0][i]:.3f}\", end = \" \")"
   ]
  },
  {
   "cell_type": "markdown",
   "metadata": {},
   "source": [
    "### 3. Model evaluation and selection [30% of Part II]"
   ]
  },
  {
   "cell_type": "markdown",
   "metadata": {},
   "source": [
    "**a.** For each model, predict the response variable on the test set."
   ]
  },
  {
   "cell_type": "markdown",
   "metadata": {},
   "source": [
    "**Response.** For each of the model, we used the Equation that we are able to derive to predict the response variable on the test."
   ]
  },
  {
   "cell_type": "code",
   "execution_count": 40,
   "metadata": {
    "scrolled": false
   },
   "outputs": [
    {
     "data": {
      "text/html": [
       "<div>\n",
       "<style scoped>\n",
       "    .dataframe tbody tr th:only-of-type {\n",
       "        vertical-align: middle;\n",
       "    }\n",
       "\n",
       "    .dataframe tbody tr th {\n",
       "        vertical-align: top;\n",
       "    }\n",
       "\n",
       "    .dataframe thead th {\n",
       "        text-align: right;\n",
       "    }\n",
       "</style>\n",
       "<table border=\"1\" class=\"dataframe\">\n",
       "  <thead>\n",
       "    <tr style=\"text-align: right;\">\n",
       "      <th></th>\n",
       "      <th>Rooms</th>\n",
       "      <th>Tax_Rate</th>\n",
       "      <th>Price</th>\n",
       "      <th>Model_1</th>\n",
       "      <th>Model_2</th>\n",
       "    </tr>\n",
       "  </thead>\n",
       "  <tbody>\n",
       "    <tr>\n",
       "      <th>0</th>\n",
       "      <td>6.575</td>\n",
       "      <td>296</td>\n",
       "      <td>24.0</td>\n",
       "      <td>25.33</td>\n",
       "      <td>25.31</td>\n",
       "    </tr>\n",
       "    <tr>\n",
       "      <th>3</th>\n",
       "      <td>6.998</td>\n",
       "      <td>222</td>\n",
       "      <td>33.4</td>\n",
       "      <td>29.38</td>\n",
       "      <td>29.33</td>\n",
       "    </tr>\n",
       "    <tr>\n",
       "      <th>5</th>\n",
       "      <td>6.430</td>\n",
       "      <td>222</td>\n",
       "      <td>28.7</td>\n",
       "      <td>25.98</td>\n",
       "      <td>25.97</td>\n",
       "    </tr>\n",
       "    <tr>\n",
       "      <th>9</th>\n",
       "      <td>6.004</td>\n",
       "      <td>311</td>\n",
       "      <td>18.9</td>\n",
       "      <td>21.60</td>\n",
       "      <td>21.62</td>\n",
       "    </tr>\n",
       "    <tr>\n",
       "      <th>15</th>\n",
       "      <td>5.834</td>\n",
       "      <td>307</td>\n",
       "      <td>19.9</td>\n",
       "      <td>20.67</td>\n",
       "      <td>20.70</td>\n",
       "    </tr>\n",
       "    <tr>\n",
       "      <th>...</th>\n",
       "      <td>...</td>\n",
       "      <td>...</td>\n",
       "      <td>...</td>\n",
       "      <td>...</td>\n",
       "      <td>...</td>\n",
       "    </tr>\n",
       "    <tr>\n",
       "      <th>412</th>\n",
       "      <td>5.926</td>\n",
       "      <td>391</td>\n",
       "      <td>24.5</td>\n",
       "      <td>19.50</td>\n",
       "      <td>19.52</td>\n",
       "    </tr>\n",
       "    <tr>\n",
       "      <th>415</th>\n",
       "      <td>5.794</td>\n",
       "      <td>391</td>\n",
       "      <td>18.3</td>\n",
       "      <td>18.71</td>\n",
       "      <td>18.74</td>\n",
       "    </tr>\n",
       "    <tr>\n",
       "      <th>416</th>\n",
       "      <td>6.019</td>\n",
       "      <td>391</td>\n",
       "      <td>21.2</td>\n",
       "      <td>20.05</td>\n",
       "      <td>20.07</td>\n",
       "    </tr>\n",
       "    <tr>\n",
       "      <th>419</th>\n",
       "      <td>6.593</td>\n",
       "      <td>273</td>\n",
       "      <td>22.4</td>\n",
       "      <td>25.91</td>\n",
       "      <td>25.89</td>\n",
       "    </tr>\n",
       "    <tr>\n",
       "      <th>420</th>\n",
       "      <td>6.120</td>\n",
       "      <td>273</td>\n",
       "      <td>20.6</td>\n",
       "      <td>23.08</td>\n",
       "      <td>23.09</td>\n",
       "    </tr>\n",
       "  </tbody>\n",
       "</table>\n",
       "<p>106 rows × 5 columns</p>\n",
       "</div>"
      ],
      "text/plain": [
       "     Rooms  Tax_Rate  Price  Model_1  Model_2\n",
       "0    6.575       296   24.0    25.33    25.31\n",
       "3    6.998       222   33.4    29.38    29.33\n",
       "5    6.430       222   28.7    25.98    25.97\n",
       "9    6.004       311   18.9    21.60    21.62\n",
       "15   5.834       307   19.9    20.67    20.70\n",
       "..     ...       ...    ...      ...      ...\n",
       "412  5.926       391   24.5    19.50    19.52\n",
       "415  5.794       391   18.3    18.71    18.74\n",
       "416  6.019       391   21.2    20.05    20.07\n",
       "419  6.593       273   22.4    25.91    25.89\n",
       "420  6.120       273   20.6    23.08    23.09\n",
       "\n",
       "[106 rows x 5 columns]"
      ]
     },
     "execution_count": 40,
     "metadata": {},
     "output_type": "execute_result"
    }
   ],
   "source": [
    "result = pd.concat([X_test, y_test], axis = 1)\n",
    "model_list = [model1, model2]\n",
    "y_pred_list = []\n",
    "i = 1;\n",
    "\n",
    "for model in model_list:\n",
    "    y_pred = model.predict(X_test)\n",
    "    y_pred = y_pred.flatten()\n",
    "    y_pred_list.append(y_pred)\n",
    "    result['Model_' + str(i)] = y_pred.round(decimals = 2)\n",
    "    i+=1\n",
    "\n",
    "result.sort_index()"
   ]
  },
  {
   "cell_type": "markdown",
   "metadata": {},
   "source": [
    "**b.** Describe the metric you use to evaluate your model(s). Report the test scores for each model."
   ]
  },
  {
   "cell_type": "markdown",
   "metadata": {},
   "source": [
    "**Response.**  For all our models, we decided to use the metrics Mean Absolute Error(MAE) and Root Mean Square Error(RMSE). We also decide to include the MAE as a percentage of the mean of the price.Based on our evaluation metrics on the test set for different models, we are able to achieve these test scores for each models."
   ]
  },
  {
   "cell_type": "code",
   "execution_count": 37,
   "metadata": {},
   "outputs": [
    {
     "name": "stdout",
     "output_type": "stream",
     "text": [
      "Model 1 Evaluation\n",
      "-----------------\n",
      "MAE: 3.34\n",
      "MAE as % of mean: 16.2%\n",
      "RMSE: 4.25\n",
      "\n",
      "\n",
      "Model 2 Evaluation\n",
      "-----------------\n",
      "MAE: 3.34\n",
      "MAE as % of mean: 16.2%\n",
      "RMSE: 4.26\n",
      "\n",
      "\n"
     ]
    }
   ],
   "source": [
    "from sklearn.metrics import mean_absolute_error\n",
    "from sklearn.metrics import mean_squared_error \n",
    "\n",
    "i = 0\n",
    "for y_pred in y_pred_list:\n",
    "    i += 1\n",
    "    mae = mean_absolute_error(y_test, y_pred)\n",
    "    ave = np.mean(y_test[\"Price\"])\n",
    "    rmse = mean_squared_error(y_test, y_pred, squared = False)  # setting squared = False returns the square-root \n",
    "\n",
    "    print(\"Model \" + str(i) + \" Evaluation\")\n",
    "    print(\"-----------------\")\n",
    "    print(f\"MAE: {mae:.2f}\")\n",
    "    print(f\"MAE as % of mean: {mae/ave*100:.1f}%\")\n",
    "    print(f\"RMSE: {rmse:.2f}\\n\\n\")"
   ]
  },
  {
   "cell_type": "markdown",
   "metadata": {},
   "source": [
    "**c.** If you trained more than one model, identify the final model you would choose for the prediction task, and explain your choice, **in no more than 50 words**."
   ]
  },
  {
   "cell_type": "markdown",
   "metadata": {},
   "source": [
    "**Response.** We have decided to choose Linear Regression as the final model. From our evaluation metrics above, the evaluation metric for Ridge and Linear Regression is extremely similar with their MAE being the same. However the RMSE is lower for Linear Regression and therefore Linear Regression evaluation score is slightly better."
   ]
  },
  {
   "cell_type": "markdown",
   "metadata": {},
   "source": [
    "### 4. Findings and conclusion [20% of Part II]"
   ]
  },
  {
   "cell_type": "markdown",
   "metadata": {},
   "source": [
    "**a.** Interpret what your model is implying, and summarize any insight you have drawn from the project. Explain if it is consistent with intuition, and if not, provide a plausible justification. Limit your entire response to **50 words**."
   ]
  },
  {
   "cell_type": "markdown",
   "metadata": {},
   "source": [
    "**Response.** <br>\n",
    "Price is closely related to Rooms and Tax_Rate. Furthermore, Rooms has a larger coefficient than Tax_Rate implying that Rooms is more likely to affect the Price. It is consistent with intuition, however we expected more variables such as Pollutants to also affect the Price."
   ]
  },
  {
   "cell_type": "markdown",
   "metadata": {},
   "source": [
    "**b.** Share any lesson you have learned from the project, in **no more than 50 words**."
   ]
  },
  {
   "cell_type": "markdown",
   "metadata": {},
   "source": [
    "**Response.**<br>\n",
    "We learnt the process of simple data science and the importance of teamwork. We also learnt about the value of Python as a tool for data science and how to use it for data visualisation, analysis, and more importantly, how to produce and read data in a easily-digestible format."
   ]
  },
  {
   "cell_type": "markdown",
   "metadata": {},
   "source": [
    "### 5. Non-technical protocol [5% of Part II]"
   ]
  },
  {
   "cell_type": "markdown",
   "metadata": {},
   "source": [
    "**b.** List any references and sources you have cited."
   ]
  },
  {
   "cell_type": "markdown",
   "metadata": {},
   "source": [
    "**Response.** "
   ]
  },
  {
   "cell_type": "markdown",
   "metadata": {},
   "source": [
    "### References\n",
    "\n",
    "https://scikit-learn.org/stable/modules/linear_model.html#\n",
    "<br><br>https://neptune.ai/blog/fighting-overfitting-with-l1-or-l2-regularization#:~:text=The%20differences%20between%20L1%20and,regularization%20solution%20is%20non%2Dsparse"
   ]
  }
 ],
 "metadata": {
  "kernelspec": {
   "display_name": "Python 3 (ipykernel)",
   "language": "python",
   "name": "python3"
  },
  "language_info": {
   "codemirror_mode": {
    "name": "ipython",
    "version": 3
   },
   "file_extension": ".py",
   "mimetype": "text/x-python",
   "name": "python",
   "nbconvert_exporter": "python",
   "pygments_lexer": "ipython3",
   "version": "3.9.7"
  }
 },
 "nbformat": 4,
 "nbformat_minor": 2
}
